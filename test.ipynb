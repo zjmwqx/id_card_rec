{
 "cells": [
  {
   "cell_type": "code",
   "execution_count": 582,
   "metadata": {
    "collapsed": true
   },
   "outputs": [],
   "source": [
    "from PIL import Image\n",
    "import pytesseract\n",
    "import argparse\n",
    "import cv2\n",
    "import os\n",
    "import numpy as np\n",
    "import random as rng\n",
    "rng.seed(12345)"
   ]
  },
  {
   "cell_type": "code",
   "execution_count": 9,
   "metadata": {
    "collapsed": true
   },
   "outputs": [],
   "source": [
    "# image = cv2.imread(\"testset/22.jpg\")\n",
    "# gray = cv2.cvtColor(image, cv2.COLOR_BGR2GRAY)\n",
    "\n",
    "# # check to see if we should apply thresholding to preprocess the\n",
    "# # image\n",
    "# #     if \"thresh\" == \"thresh\":\n",
    "# gray = cv2.threshold(gray, 127, 255,cv2.THRESH_BINARY+cv2.THRESH_OTSU)[1]"
   ]
  },
  {
   "cell_type": "code",
   "execution_count": 10,
   "metadata": {
    "collapsed": true
   },
   "outputs": [],
   "source": [
    "# from matplotlib import pyplot as plt\n",
    "# plt.imshow(gray, interpolation='nearest')\n",
    "# plt.show()"
   ]
  },
  {
   "cell_type": "code",
   "execution_count": 11,
   "metadata": {
    "collapsed": true
   },
   "outputs": [],
   "source": [
    "# # load the image as a PIL/Pillow image, apply OCR, and then delete\n",
    "# # the temporary file\n",
    "# text = pytesseract.image_to_string(gray)\n",
    "# # os.remove(filename)\n",
    "# print(text)\n",
    " \n",
    "# # # show the output images\n",
    "# # cv2.imshow(\"Image\", image)\n",
    "# # cv2.imshow(\"Output\", gray)\n",
    "# # cv2.waitKey(0)"
   ]
  },
  {
   "cell_type": "code",
   "execution_count": 276,
   "metadata": {
    "collapsed": true
   },
   "outputs": [],
   "source": [
    "import re\n",
    "p1 = r\"(.*[0-9])\"\n",
    "pattern1 = re.compile(p1)\n",
    "def readImgOrg(path):\n",
    "    image = cv2.imread(path)\n",
    "    gray = cv2.cvtColor(image, cv2.COLOR_BGR2GRAY)\n",
    " \n",
    "    # check to see if we should apply thresholding to preprocess the\n",
    "    # image\n",
    "#     if \"thresh\" == \"thresh\":\n",
    "    gray1 = cv2.adaptiveThreshold(gray, 255, cv2.ADAPTIVE_THRESH_MEAN_C, cv2.THRESH_BINARY,11,2)\n",
    "#     gray2 = cv2.threshold(gray, 0, 255, cv2.THRESH_BINARY+cv2.THRESH_OTSU)[1]\n",
    "    gray = gray1\n",
    "    # noise\n",
    "#     elif \"blur\" == \"blur\":\n",
    "#     gray = cv2.medianBlur(gray, 3)\n",
    "    # write the grayscale image to disk as a temporary file so we can\n",
    "    # apply OCR to it\n",
    "    matcher1 = re.search(pattern1,path)\n",
    "    new_path = \"{}_black_org.png\".format(matcher1.group(0))\n",
    "    cv2.imwrite(new_path, gray)\n",
    "    return gray\n",
    "def readImgBin(path):\n",
    "    image = cv2.imread(path)\n",
    "    gray = cv2.cvtColor(image, cv2.COLOR_BGR2GRAY)\n",
    " \n",
    "    # check to see if we should apply thresholding to preprocess the\n",
    "    # image\n",
    "#     if \"thresh\" == \"thresh\":\n",
    "    gray = cv2.threshold(gray, 180, 255,cv2.THRESH_BINARY)[1]\n",
    "    # noise\n",
    "#     elif \"blur\" == \"blur\":\n",
    "#     gray = cv2.medianBlur(gray, 3)\n",
    "    # write the grayscale image to disk as a temporary file so we can\n",
    "    # apply OCR to it\n",
    "    matcher1 = re.search(pattern1,path)\n",
    "    new_path = \"{}_black_bin.png\".format(matcher1.group(0))\n",
    "    cv2.imwrite(new_path, gray)\n",
    "    return gray"
   ]
  },
  {
   "cell_type": "code",
   "execution_count": 478,
   "metadata": {
    "collapsed": true
   },
   "outputs": [],
   "source": [
    "def edgeDetect(path):\n",
    "    p1 = r\"(.*[0-9])\"\n",
    "    pattern1 = re.compile(p1)\n",
    "    image = cv2.imread(path)\n",
    "    gray = cv2.cvtColor(image, cv2.COLOR_BGR2GRAY)\n",
    "    gaus = cv2.GaussianBlur(gray,(11,11),0)\n",
    "    edges = cv2.Canny(gaus,50,50, 3)   \n",
    "    matcher1 = re.search(pattern1,path)\n",
    "    new_path = \"{}_edge.png\".format(matcher1.group(0))\n",
    "    cv2.imwrite(new_path, edges)\n",
    "import glob   \n",
    "# path = 'testset/*_black_org.png' \n",
    "path = 'testset/*.jpg'\n",
    "files=glob.glob(path)   \n",
    "for file in files:  \n",
    "#     readImgOrg(file)\n",
    "    edgeDetect(file)\n",
    "#     readImgBin(file)"
   ]
  },
  {
   "cell_type": "code",
   "execution_count": 476,
   "metadata": {
    "collapsed": true
   },
   "outputs": [],
   "source": [
    "def lineDetect(path):\n",
    "    p1 = r\"(.*[0-9])\"\n",
    "    pattern1 = re.compile(p1)\n",
    "    image = cv2.imread(path)\n",
    "    gray = cv2.cvtColor(image, cv2.COLOR_BGR2GRAY)\n",
    "    gaus = cv2.GaussianBlur(gray,(11,11),0)\n",
    "    edges = cv2.Canny(gaus,50,50, 3)  \n",
    "    \n",
    "    lines = cv2.HoughLinesP(edges,1,np.pi * 10/180,1,10000,minLineLength=10, maxLineGap=5)\n",
    "#     lines = cv2.HoughLines(edges,1,np.pi * 10/180, 200)\n",
    "#     if(lines is not None):\n",
    "#         for l in lines:\n",
    "#             for rho,theta in l:\n",
    "#                 a = np.cos(theta)\n",
    "#                 b = np.sin(theta)\n",
    "#                 x0 = a*rho\n",
    "#                 y0 = b*rho\n",
    "#                 x1 = int(x0 + 1000*(-b))\n",
    "#                 y1 = int(y0 + 1000*(a))\n",
    "#                 x2 = int(x0 - 1000*(-b))\n",
    "#                 y2 = int(y0 - 1000*(a))\n",
    "#                 cv2.line(image,(x1,y1),(x2,y2),(0,0,255),2)\n",
    "    ll = set()\n",
    "    if(lines is not None):\n",
    "        for l in lines:\n",
    "            for x1,y1,x2,y2 in l:\n",
    "                ll.add((x1,y1,x2,y2))\n",
    "    for l in ll:\n",
    "        cv2.line(image,(l[0],l[1]),(l[2],l[3]),(0,255,0),3, 8)\n",
    "\n",
    "    matcher1 = re.search(pattern1,path)\n",
    "    new_path = \"{}_edge_line_gaus.png\".format(matcher1.group(0))\n",
    "    cv2.imwrite(new_path, image)\n",
    "    \n",
    "    "
   ]
  },
  {
   "cell_type": "code",
   "execution_count": 477,
   "metadata": {
    "collapsed": true,
    "scrolled": false
   },
   "outputs": [],
   "source": [
    "import glob   \n",
    "# path = 'testset/*_black_org.png' \n",
    "path = 'testset/*.jpg'\n",
    "files=glob.glob(path)   \n",
    "for file in files:  \n",
    "#     readImgOrg(file)\n",
    "    lineDetect(file)\n",
    "#     readImgBin(file)"
   ]
  },
  {
   "cell_type": "code",
   "execution_count": 447,
   "metadata": {
    "collapsed": true
   },
   "outputs": [],
   "source": [
    "gray = readImg(\"testset/2.jpg\")"
   ]
  },
  {
   "cell_type": "code",
   "execution_count": 275,
   "metadata": {
    "collapsed": true
   },
   "outputs": [],
   "source": [
    "# load the image as a PIL/Pillow image, apply OCR, and then delete\n",
    "# the temporary file\n",
    "img = cv2.imread(\"testset/2_black.png\")\n",
    "h, w, _ = img.shape\n",
    "boxes = pytesseract.image_to_boxes(img)\n",
    "text = pytesseract.image_to_string(img)\n",
    "\n",
    "# for (a,b) in (boxes.splitlines():\n",
    "#     b = b.split(' ')\n",
    "# #     img = cv2.rectangle(img, (int(b[1]), h - int(b[2])), (int(b[3]), h - int(b[4])), (0, 255, 0), 2)\n",
    "#     print int(b[3]) - int(b[1]) "
   ]
  },
  {
   "cell_type": "code",
   "execution_count": 152,
   "metadata": {
    "collapsed": true
   },
   "outputs": [],
   "source": [
    "def get_card_id(text):\n",
    "    card_id = \"\"\n",
    "    for cor in text.split():\n",
    "        p1 = r\"[0-9X]+\"\n",
    "        pattern1 = re.compile(p1)\n",
    "        matcher1 = re.search(pattern1,cor)\n",
    "        if(matcher1 != None):\n",
    "            ss = matcher1.group(0)\n",
    "            if(len(ss) >= 10):\n",
    "                card_id = ss\n",
    "    return card_id\n",
    "    "
   ]
  },
  {
   "cell_type": "code",
   "execution_count": 117,
   "metadata": {
    "collapsed": true
   },
   "outputs": [],
   "source": [
    "vv = set()"
   ]
  },
  {
   "cell_type": "code",
   "execution_count": 118,
   "metadata": {
    "collapsed": true
   },
   "outputs": [],
   "source": [
    "text = pytesseract.image_to_string(\"testset/19_black.png\",  config=\"-c tessedit_char_whitelist=0123456789X -psm 6\")"
   ]
  },
  {
   "cell_type": "code",
   "execution_count": 119,
   "metadata": {},
   "outputs": [
    {
     "name": "stdout",
     "output_type": "stream",
     "text": [
      "113 45  5133\n",
      "73 5 9   3 5 52\n",
      "122 199251151188  3 \n",
      "12   5  5  3    \n",
      " 111 1  \n",
      "3   1   451252 3303291992111824510\n"
     ]
    }
   ],
   "source": [
    "print text"
   ]
  },
  {
   "cell_type": "code",
   "execution_count": 264,
   "metadata": {
    "scrolled": true
   },
   "outputs": [
    {
     "name": "stdout",
     "output_type": "stream",
     "text": [
      "testset/0_black_org.png\n",
      "19321251332\n",
      "testset/100_black_org.png\n",
      "31933963731313\n",
      "testset/10_black_org.png\n",
      "359559535535\n",
      "testset/11_black_org.png\n",
      "350784198610203334\n",
      "testset/12_black_org.png\n",
      "3333331333323\n",
      "testset/13_black_org.png\n",
      "9514157313213511353233731121332331153\n",
      "testset/14_black_org.png\n",
      "620421199008092035\n",
      "testset/17_black_org.png\n",
      "47131733274547\n",
      "testset/19_black_org.png\n",
      "330329199211182454\n",
      "testset/1_black_org.png\n",
      "3135078319820520301X\n",
      "testset/20_black_org.png\n",
      "510131198601051521\n",
      "testset/21_black_org.png\n",
      "530127198710073227\n",
      "testset/22_black_org.png\n",
      "9533133136\n",
      "testset/23_black_org.png\n",
      "441421198704282417\n",
      "testset/24_black_org.png\n",
      "3335555555553515535\n",
      "testset/25_black_org.png\n",
      "0131020233523203175\n",
      "testset/28_black_org.png\n",
      "558312511535539405529\n",
      "testset/29_black_org.png\n",
      "510722198707305952\n",
      "testset/2_black_org.png\n",
      "620103197808042310\n",
      "testset/30_black_org.png\n",
      "13325233223273212\n",
      "testset/33_black_org.png\n",
      "65222216615\n",
      "testset/34_black_org.png\n",
      "22322333233131322333\n",
      "testset/35_black_org.png\n",
      "43951453553335\n",
      "testset/36_black_org.png\n",
      "7430524198501291198\n",
      "testset/37_black_org.png\n",
      "42900419750606003X\n",
      "testset/38_black_org.png\n",
      "4111343333414333433333933333433333354313313155533333\n",
      "testset/39_black_org.png\n",
      "532323199711201116\n",
      "testset/40_black_org.png\n",
      "5533259539433555945355533353354533543584345533\n",
      "testset/41_black_org.png\n",
      "25522522232232\n",
      "testset/42_black_org.png\n",
      "320723199906255455\n",
      "testset/44_black_org.png\n",
      "511322199109128830\n",
      "testset/46_black_org.png\n",
      "42112719831023009X\n",
      "testset/47_black_org.png\n",
      "55345555555\n",
      "testset/49_black_org.png\n",
      "3333333233\n",
      "testset/50_black_org.png\n",
      "350123198802034621\n",
      "testset/52_black_org.png\n",
      "531553153123311125532522511113151\n",
      "testset/53_black_org.png\n",
      "33030419830319977X\n",
      "testset/54_black_org.png\n",
      "3393599999399\n",
      "testset/56_black_org.png\n",
      "3303271984112103\n",
      "testset/57_black_org.png\n",
      "11151155145\n",
      "testset/58_black_org.png\n",
      "5101411111111121242595551111121151251111115551111141155\n",
      "testset/59_black_org.png\n",
      "654301198712113526\n",
      "testset/5_black_org.png\n",
      "430422198708164470\n",
      "testset/60_black_org.png\n",
      "460026198710231512\n",
      "testset/62_black_org.png\n",
      "512532198001305911\n",
      "testset/64_black_org.png\n",
      "33353333333333\n",
      "testset/65_black_org.png\n",
      "3374737933\n",
      "testset/66_black_org.png\n",
      "350301198811290451\n",
      "testset/67_black_org.png\n",
      "21553231222222\n",
      "testset/68_black_org.png\n",
      "4433443544523\n",
      "testset/70_black_org.png\n",
      "1221235223232223633255\n",
      "testset/72_black_org.png\n",
      "1454444124174432444\n",
      "testset/73_black_org.png\n",
      "1414211434\n",
      "testset/75_black_org.png\n",
      "323335313333\n",
      "testset/76_black_org.png\n",
      "532198906140914\n",
      "testset/77_black_org.png\n",
      "622301198707174693\n",
      "testset/7_black_org.png\n",
      "500104198701210437\n",
      "testset/80_black_org.png\n",
      "360731198809301117\n",
      "testset/82_black_org.png\n",
      "610882196909273011\n",
      "testset/83_black_org.png\n",
      "\n",
      "testset/84_black_org.png\n",
      "130622198711072243\n",
      "testset/87_black_org.png\n",
      "220721198110183838\n",
      "testset/88_black_org.png\n",
      "99929991991952911919229912999319991919151119494110991995999945\n",
      "testset/89_black_org.png\n",
      "53333932222\n",
      "testset/8_black_org.png\n",
      "612429198609147130\n",
      "testset/90_black_org.png\n",
      "1411911404111\n",
      "testset/91_black_org.png\n",
      "33339332533333\n",
      "testset/92_black_org.png\n",
      "32343333333334\n",
      "testset/95_black_org.png\n",
      "2124434243443\n",
      "testset/96_black_org.png\n",
      "430611198805201511\n",
      "testset/97_black_org.png\n",
      "5131225113\n",
      "testset/98_black_org.png\n",
      "4127241985050815127\n",
      "testset/99_black_org.png\n",
      "53250119910721124X\n",
      "testset/9_black_org.png\n",
      "92991919922293\n",
      "1.0\n",
      "74\n",
      "73\n"
     ]
    }
   ],
   "source": [
    "import glob   \n",
    "path = 'testset/*_black_org.png'   \n",
    "files=glob.glob(path)   \n",
    "p1 = r\"[0-9]+\"\n",
    "cc = 0\n",
    "for file in files:  \n",
    "    img = cv2.imread(file)\n",
    "    h, w, _ = img.shape\n",
    "    text = pytesseract.image_to_string(img, config=\"-c tessedit_char_whitelist=0123456789X -psm 6\")\n",
    "    \n",
    "    print file\n",
    "    aa = get_card_id(text)\n",
    "    if(aa != \"\"):\n",
    "        pattern1 = re.compile(p1)\n",
    "        matcher1 = re.search(pattern1,file)\n",
    "        id_ = matcher1.group(0)\n",
    "        vv.add(id_)\n",
    "        cc += 1\n",
    "    print aa\n",
    "print (len(vv) + 0.0)/ len(files)\n",
    "print len(files)\n",
    "print cc"
   ]
  },
  {
   "cell_type": "code",
   "execution_count": 63,
   "metadata": {},
   "outputs": [
    {
     "data": {
      "text/plain": [
       "u'620103197808042310'"
      ]
     },
     "execution_count": 63,
     "metadata": {},
     "output_type": "execute_result"
    }
   ],
   "source": [
    "get_card_id(text)"
   ]
  },
  {
   "cell_type": "code",
   "execution_count": null,
   "metadata": {
    "collapsed": true
   },
   "outputs": [],
   "source": [
    "#image segmentation"
   ]
  },
  {
   "cell_type": "code",
   "execution_count": null,
   "metadata": {
    "collapsed": true
   },
   "outputs": [],
   "source": [
    "def edgeDetect(path):\n",
    "    p1 = r\"(.*[0-9])\"\n",
    "    pattern1 = re.compile(p1)\n",
    "    image = cv2.imread(path)\n",
    "    gray = cv2.cvtColor(image, cv2.COLOR_BGR2GRAY)\n",
    "    gaus = cv2.GaussianBlur(gray,(11,11),0)\n",
    "    edges = cv2.Canny(gaus,50,50, 3)   \n",
    "    matcher1 = re.search(pattern1,path)\n",
    "    new_path = \"{}_edge.png\".format(matcher1.group(0))\n",
    "    cv2.imwrite(new_path, edges)"
   ]
  },
  {
   "cell_type": "code",
   "execution_count": 487,
   "metadata": {
    "collapsed": true
   },
   "outputs": [],
   "source": [
    "def getLaplacianImg(path):\n",
    "    p1 = r\"(.*[0-9])\"\n",
    "    pattern1 = re.compile(p1)\n",
    "    image = cv2.imread(path)\n",
    "    # Create a kernel that we will use to sharpen our image\n",
    "    # an approximation of second derivative, a quite strong kernel\n",
    "    kernel = np.array([[1, 1, 1], [1, -8, 1], [1, 1, 1]], dtype=np.float32)\n",
    "    # do the laplacian filtering as it is\n",
    "    # well, we need to convert everything in something more deeper then CV_8U\n",
    "    # because the kernel has some negative values,\n",
    "    # and we can expect in general to have a Laplacian image with negative values\n",
    "    # BUT a 8bits unsigned int (the one we are working with) can contain values from 0 to 255\n",
    "    # so the possible negative number will be truncated\n",
    "    imgLaplacian = cv2.filter2D(image, cv2.CV_32F, kernel)\n",
    "    sharp = np.float32(image)\n",
    "    imgResult = sharp - imgLaplacian\n",
    "    # convert back to 8bits gray scale\n",
    "    imgResult = np.clip(imgResult, 0, 255)\n",
    "    imgResult = imgResult.astype('uint8')\n",
    "    imgLaplacian = np.clip(imgLaplacian, 0, 255)\n",
    "    imgLaplacian = np.uint8(imgLaplacian)\n",
    "    matcher1 = re.search(pattern1,path)\n",
    "    new_path = \"{}_lap.png\".format(matcher1.group(0))\n",
    "    cv2.imwrite(new_path, imgResult)"
   ]
  },
  {
   "cell_type": "code",
   "execution_count": 488,
   "metadata": {
    "collapsed": true
   },
   "outputs": [],
   "source": [
    "import glob\n",
    "path = 'testset/*.jpg'\n",
    "files=glob.glob(path)   \n",
    "for file in files:  \n",
    "#     readImgOrg(file)\n",
    "    getLaplacianImg(file)\n",
    "#     readImgBin(file)"
   ]
  },
  {
   "cell_type": "code",
   "execution_count": 509,
   "metadata": {
    "collapsed": true
   },
   "outputs": [],
   "source": [
    "?cv2.distanceTransform"
   ]
  },
  {
   "cell_type": "code",
   "execution_count": 510,
   "metadata": {
    "collapsed": true
   },
   "outputs": [],
   "source": [
    "?cv2.threshold"
   ]
  },
  {
   "cell_type": "code",
   "execution_count": 550,
   "metadata": {
    "collapsed": true
   },
   "outputs": [],
   "source": [
    "image = cv2.imread(\"testset/0_lap.png\")\n",
    "bw = cv2.cvtColor(image, cv2.COLOR_BGR2GRAY)\n",
    "_, bw = cv2.threshold(bw, 40, 255, cv2.THRESH_BINARY | cv2.THRESH_OTSU)"
   ]
  },
  {
   "cell_type": "code",
   "execution_count": 551,
   "metadata": {
    "collapsed": true
   },
   "outputs": [],
   "source": [
    "dist = cv2.distanceTransform(bw, cv2.DIST_L2, 3)"
   ]
  },
  {
   "cell_type": "code",
   "execution_count": 552,
   "metadata": {},
   "outputs": [
    {
     "data": {
      "text/plain": [
       "array([[0, 0, 0, ..., 0, 0, 0],\n",
       "       [0, 0, 0, ..., 0, 0, 0],\n",
       "       [0, 0, 0, ..., 0, 0, 0],\n",
       "       ..., \n",
       "       [0, 0, 0, ..., 0, 0, 0],\n",
       "       [0, 0, 0, ..., 0, 0, 0],\n",
       "       [0, 0, 0, ..., 0, 0, 0]], dtype=int32)"
      ]
     },
     "execution_count": 552,
     "metadata": {},
     "output_type": "execute_result"
    }
   ],
   "source": [
    "cv2.normalize(dist, dist, 0, 1.0, cv2.NORM_MINMAX)\n",
    "kernel1 = np.ones((3,3), dtype=np.uint8)\n",
    "dist = cv2.dilate(dist, kernel1)\n",
    "# Create the CV_8U version of the distance image\n",
    "# It is needed for findContours()\n",
    "dist_8u = dist.astype('uint8')\n",
    "# Find total markers\n",
    "_, contours, _ = cv2.findContours(dist_8u, cv2.RETR_EXTERNAL, cv2.CHAIN_APPROX_SIMPLE)\n",
    "# Create the marker image for the watershed algorithm\n",
    "markers = np.zeros(dist.shape, dtype=np.int32)\n",
    "# Draw the foreground markers\n",
    "for i in range(len(contours)):\n",
    "    cv2.drawContours(markers, contours, i, (i+1), -1)\n",
    "# Draw the background marker\n",
    "cv2.circle(markers, (5,5), 3, (255,255,255), -1)"
   ]
  },
  {
   "cell_type": "code",
   "execution_count": 555,
   "metadata": {
    "collapsed": true
   },
   "outputs": [],
   "source": [
    "rr = cv2.normalize(markers, markers, 0, 255, cv2.NORM_MINMAX)"
   ]
  },
  {
   "cell_type": "code",
   "execution_count": 526,
   "metadata": {
    "collapsed": true
   },
   "outputs": [],
   "source": [
    "cv2.imshow(\"Distance Transform Image\", dist);"
   ]
  },
  {
   "cell_type": "code",
   "execution_count": 560,
   "metadata": {
    "collapsed": true
   },
   "outputs": [],
   "source": [
    "# def getBinaryImgAndDTrans(path):\n",
    "#     p1 = r\"(.*[0-9])\"\n",
    "#     pattern1 = re.compile(p1)\n",
    "#     image = cv2.imread(path)\n",
    "#     bw = cv2.cvtColor(image, cv2.COLOR_BGR2GRAY)\n",
    "#     _, bw = cv2.threshold(bw, 40, 255, cv2.THRESH_BINARY | cv2.THRESH_OTSU)\n",
    "#     dist = cv2.distanceTransform(bw, cv2.DIST_L2, 3)\n",
    "#     cv2.normalize(dist, dist, 0, 1, cv2.NORM_MINMAX)\n",
    "#     _, dist = cv2.threshold(dist, 0.1, 1.0, cv2.THRESH_BINARY)\n",
    "#     kernel1 = np.ones((3,3), dtype=np.uint8)\n",
    "#     dist = cv2.dilate(dist, kernel1)\n",
    "#     # Create the CV_8U version of the distance image\n",
    "#     # It is needed for findContours()\n",
    "#     dist_8u = dist.astype('uint8')\n",
    "#     # Find total markers\n",
    "#     _, contours, _ = cv2.findContours(dist_8u, cv2.RETR_EXTERNAL, cv2.CHAIN_APPROX_SIMPLE)\n",
    "#     # Create the marker image for the watershed algorithm\n",
    "#     markers = np.zeros(dist.shape, dtype=np.int32)\n",
    "#     # Draw the foreground markers\n",
    "#     for i in range(len(contours)):\n",
    "#         cv2.drawContours(markers, contours, i, (i+1), -1)\n",
    "#     # Draw the background marker\n",
    "#     cv2.circle(markers, (5,5), 3, (255,255,255), -1)\n",
    "    \n",
    "#     matcher1 = re.search(pattern1,path)\n",
    "#     new_path = \"{}_lap_edge.png\".format(matcher1.group(0))\n",
    "#     cv2.imwrite(new_path, bw)\n",
    "#     trans_path = \"{}_dtrans.png\".format(matcher1.group(0))\n",
    "#     cv2.imwrite(trans_path, markers)\n",
    "# import glob\n",
    "# path = 'testset/*lap.png'\n",
    "# files=glob.glob(path)   \n",
    "# for file in files:  \n",
    "# #     readImgOrg(file)\n",
    "#     getBinaryImgAndDTrans(file)\n",
    "# #     readImgBin(file)"
   ]
  },
  {
   "cell_type": "code",
   "execution_count": 579,
   "metadata": {},
   "outputs": [
    {
     "data": {
      "text/plain": [
       "True"
      ]
     },
     "execution_count": 579,
     "metadata": {},
     "output_type": "execute_result"
    }
   ],
   "source": [
    "markers = np.zeros(dist.shape, dtype=np.int32)\n",
    "cv2.rectangle(markers, (450,300),(900,550),(255,255,255), -1)\n",
    "cv2.imwrite(\"testset/00.png\", markers)"
   ]
  },
  {
   "cell_type": "code",
   "execution_count": 626,
   "metadata": {},
   "outputs": [
    {
     "data": {
      "text/plain": [
       "(866, 1380)"
      ]
     },
     "execution_count": 626,
     "metadata": {},
     "output_type": "execute_result"
    }
   ],
   "source": [
    "dist.shape"
   ]
  },
  {
   "cell_type": "code",
   "execution_count": 605,
   "metadata": {
    "collapsed": true
   },
   "outputs": [],
   "source": [
    "?cv2.bitwise_not"
   ]
  },
  {
   "cell_type": "code",
   "execution_count": 618,
   "metadata": {
    "collapsed": true
   },
   "outputs": [],
   "source": [
    "?cv2.circle"
   ]
  },
  {
   "cell_type": "code",
   "execution_count": 684,
   "metadata": {
    "collapsed": true
   },
   "outputs": [],
   "source": [
    "?cv2.threshold"
   ]
  },
  {
   "cell_type": "code",
   "execution_count": 687,
   "metadata": {
    "collapsed": true
   },
   "outputs": [],
   "source": [
    "?cv2.threshold"
   ]
  },
  {
   "cell_type": "code",
   "execution_count": 696,
   "metadata": {},
   "outputs": [],
   "source": [
    "?cv2.threshold"
   ]
  },
  {
   "cell_type": "code",
   "execution_count": 727,
   "metadata": {
    "scrolled": false
   },
   "outputs": [
    {
     "name": "stdout",
     "output_type": "stream",
     "text": [
      "2\n",
      "testset/0.jpg\n",
      "0.00306706405403\n",
      "2\n",
      "testset/1.jpg\n",
      "0.180515704866\n",
      "2\n",
      "testset/10.jpg\n",
      "0.0560238780875\n",
      "2\n",
      "testset/100.jpg\n",
      "0.0259442468065\n",
      "2\n",
      "testset/11.jpg\n",
      "0.00581297315526\n",
      "2\n",
      "testset/12.jpg\n",
      "0.0100940145431\n",
      "2\n",
      "testset/13.jpg\n",
      "0.00395582777353\n",
      "2\n",
      "testset/14.jpg\n",
      "0.00582357113114\n",
      "2\n",
      "testset/17.jpg\n",
      "0.0662009139459\n",
      "2\n",
      "testset/19.jpg\n",
      "0.00675200782523\n",
      "2\n",
      "testset/2.jpg\n",
      "0.00811056424929\n",
      "2\n",
      "testset/20.jpg\n",
      "0.00432432487738\n",
      "2\n",
      "testset/21.jpg\n",
      "0.00687103687567\n",
      "2\n",
      "testset/22.jpg\n",
      "0.0379267304618\n",
      "2\n",
      "testset/23.jpg\n",
      "0.0820666760369\n",
      "2\n",
      "testset/24.jpg\n",
      "0.00945406112816\n",
      "2\n",
      "testset/25.jpg\n",
      "0.0770091687831\n",
      "2\n",
      "testset/28.jpg\n",
      "0.00572084708878\n",
      "2\n",
      "testset/29.jpg\n",
      "0.0151979941182\n",
      "2\n",
      "testset/30.jpg\n",
      "0.0122665239937\n",
      "2\n",
      "testset/33.jpg\n",
      "0.180456215587\n",
      "2\n",
      "testset/34.jpg\n",
      "0.0985886372277\n",
      "2\n",
      "testset/35.jpg\n",
      "0.0128541293385\n",
      "2\n",
      "testset/36.jpg\n",
      "0.0819254946722\n",
      "2\n",
      "testset/37.jpg\n",
      "0.00328537593856\n",
      "2\n",
      "testset/38.jpg\n",
      "0.0861679144077\n",
      "2\n",
      "testset/39.jpg\n",
      "0.199171402249\n",
      "2\n",
      "testset/40.jpg\n",
      "0.0778290476306\n",
      "2\n",
      "testset/41.jpg\n",
      "0.00318763833087\n",
      "2\n",
      "testset/42.jpg\n",
      "0.0617243212172\n",
      "2\n",
      "testset/44.jpg\n",
      "0.0083741612681\n",
      "2\n",
      "testset/46.jpg\n",
      "0.0180578738885\n",
      "2\n",
      "testset/47.jpg\n",
      "0.00292790432111\n",
      "2\n",
      "testset/49.jpg\n",
      "0.0349806917677\n",
      "2\n",
      "testset/5.jpg\n",
      "0.299439083917\n",
      "2\n",
      "testset/50.jpg\n",
      "0.00509102745806\n",
      "2\n",
      "testset/52.jpg\n",
      "0.00533032465876\n",
      "2\n",
      "testset/53.jpg\n",
      "0.0899464890074\n",
      "2\n",
      "testset/54.jpg\n",
      "0.0709117525555\n",
      "2\n",
      "testset/56.jpg\n",
      "0.0235185415126\n",
      "2\n",
      "testset/57.jpg\n",
      "0.0299534293981\n",
      "2\n",
      "testset/58.jpg\n",
      "0.0108449118721\n",
      "2\n",
      "testset/59.jpg\n",
      "0.00453970601943\n",
      "2\n",
      "testset/60.jpg\n",
      "0.00687679378813\n",
      "2\n",
      "testset/62.jpg\n",
      "0.0158675714073\n",
      "2\n",
      "testset/64.jpg\n",
      "0.0437741098979\n",
      "2\n",
      "testset/65.jpg\n",
      "0.00572776298265\n",
      "2\n",
      "testset/66.jpg\n",
      "0.0072067010898\n",
      "2\n",
      "testset/67.jpg\n",
      "0.0285893360929\n",
      "2\n",
      "testset/68.jpg\n",
      "0.00329023311652\n",
      "2\n",
      "testset/7.jpg\n",
      "0.0315463915572\n",
      "2\n",
      "testset/70.jpg\n",
      "0.0197626989236\n",
      "2\n",
      "testset/72.jpg\n",
      "0.050675892471\n",
      "2\n",
      "testset/73.jpg\n",
      "0.0114200880079\n",
      "2\n",
      "testset/75.jpg\n",
      "0.00665393185023\n",
      "2\n",
      "testset/76.jpg\n",
      "0.00267887888508\n",
      "2\n",
      "testset/77.jpg\n",
      "0.190934202506\n",
      "2\n",
      "testset/8.jpg\n",
      "0.0157740416615\n",
      "2\n",
      "testset/80.jpg\n",
      "0.00218100542548\n",
      "2\n",
      "testset/82.jpg\n",
      "0.0199013908264\n",
      "2\n",
      "testset/83.jpg\n",
      "0.0774815992635\n",
      "2\n",
      "testset/84.jpg\n",
      "0.0152570996845\n",
      "2\n",
      "testset/87.jpg\n",
      "0.00755235799307\n",
      "2\n",
      "testset/88.jpg\n",
      "0.00690182911681\n",
      "2\n",
      "testset/89.jpg\n",
      "0.002205296515\n",
      "2\n",
      "testset/9.jpg\n",
      "0.00653263798127\n",
      "2\n",
      "testset/90.jpg\n",
      "0.0205969597426\n",
      "2\n",
      "testset/91.jpg\n",
      "0.0478593583085\n",
      "2\n",
      "testset/92.jpg\n",
      "0.265660384967\n",
      "2\n",
      "testset/95.jpg\n",
      "0.00182941979906\n",
      "2\n",
      "testset/96.jpg\n",
      "0.0964121008373\n",
      "2\n",
      "testset/97.jpg\n",
      "0.0061618172109\n",
      "2\n",
      "testset/98.jpg\n",
      "0.00575585727295\n",
      "2\n",
      "testset/99.jpg\n",
      "0.0185629265735\n"
     ]
    }
   ],
   "source": [
    "def watershed(path):\n",
    "    p1 = r\"(.*[0-9])\"\n",
    "    pattern1 = re.compile(p1)\n",
    "    image = cv2.imread(path)\n",
    "    kernel = np.array([[1, 1, 1], [1, -8, 1], [1, 1, 1]], dtype=np.float32)\n",
    "    # do the laplacian filtering as it is\n",
    "    # well, we need to convert everything in something more deeper then CV_8U\n",
    "    # because the kernel has some negative values,\n",
    "    # and we can expect in general to have a Laplacian image with negative values\n",
    "    # BUT a 8bits unsigned int (the one we are working with) can contain values from 0 to 255\n",
    "    # so the possible negative number will be truncated\n",
    "#     imgLaplacian = cv2.filter2D(image, cv2.CV_32F, kernel)\n",
    "#     sharp = np.float32(image)\n",
    "#     imgResult = sharp - imgLaplacian\n",
    "    # convert back to 8bits gray scale\n",
    "    image = cv2.cvtColor(image, cv2.COLOR_BGR2HSV)\n",
    "    imgResult = np.clip(image, 0, 255)\n",
    "    imgResult = imgResult.astype('uint8')\n",
    "    image = cv2.GaussianBlur(image,(11,11),0)\n",
    "    bw = cv2.cvtColor(imgResult, cv2.COLOR_BGR2GRAY)\n",
    "    markers = np.zeros(bw.shape, dtype=np.int32)\n",
    "    h = markers.shape[0]\n",
    "    w = markers.shape[1]\n",
    "    cv2.circle(markers, (5,5), 10, (255, 255, 255), -1)\n",
    "    cv2.circle(markers, (5,h - 5), 10, (255, 255, 255), -1)\n",
    "    cv2.circle(markers, (w - 5,5), 10, (255, 255, 255), -1)\n",
    "    cv2.circle(markers, (w - 5,h - 5), 10, (255, 255, 255), -1)\n",
    "    cv2.rectangle(markers, (int(w * 0.4),int(h * 0.4)),(int(w * 0.6), int(h * 0.6)),(50,50,50), -1)\n",
    "    # Perform the watershed algorithm\n",
    "    cv2.watershed(image, markers)\n",
    "#     mark = markers.astype('uint8')\n",
    "#     mark = cv2.bitwise_not(mark)\n",
    "#     # uncomment this if you want to see how the mark\n",
    "#     # image looks like at that point\n",
    "#     #cv.imshow('Markers_v2', mark)\n",
    "#     # Generate random colors\n",
    "#     colors = []\n",
    "#     for contour in contours:\n",
    "#         colors.append((rng.randint(0,256), rng.randint(0,256), rng.randint(0,256)))\n",
    "#     # Create the result image\n",
    "#     dst = np.zeros((markers.shape[0], markers.shape[1], 3), dtype=np.uint8)\n",
    "#     # Fill labeled objects with random colors\n",
    "#     for i in range(markers.shape[0]):\n",
    "#         for j in range(markers.shape[1]):\n",
    "#             index = markers[i,j]\n",
    "#             if index > 0 and index <= len(contours):\n",
    "#                 dst[i,j,:] = colors[index-1]\n",
    "    matcher1 = re.search(pattern1,path)\n",
    "    new_path = \"{}_watershed_hsv.png\".format(matcher1.group(0))\n",
    "#     cv2.normalize(mark, mark, 0, 255, cv2.NORM_MINMAX)\n",
    "    cv2.imwrite(new_path, markers.astype('uint8'))\n",
    "    _,markers = cv2.threshold( markers.astype('uint8'),  200, 255, cv2.THRESH_BINARY );\n",
    "    thresh_callback(markers, path)\n",
    "import glob\n",
    "path = 'testset/*.jpg'\n",
    "files=glob.glob(path)   \n",
    "for file in files:  \n",
    "#     readImgOrg(file)\n",
    "    watershed(file)\n",
    "#     readImgBin(file)"
   ]
  },
  {
   "cell_type": "code",
   "execution_count": 726,
   "metadata": {
    "collapsed": true
   },
   "outputs": [],
   "source": [
    "def thresh_callback(src_gray, path):\n",
    "    p1 = r\"(.*[0-9])\"\n",
    "    pattern1 = re.compile(p1)\n",
    "    # Detect edges using Canny\n",
    "    # Find contours\n",
    "    _, contours, _ = cv2.findContours(src_gray, cv2.RETR_TREE, cv2.CHAIN_APPROX_SIMPLE)\n",
    "    # Find the convex hull object for each contour\n",
    "    hull_list = []\n",
    "    for i in range(len(contours)):\n",
    "        hull = cv2.convexHull(contours[i])\n",
    "        hull_list.append(hull)\n",
    "    # Draw contours + hull results\n",
    "    drawing = np.zeros((src_gray.shape[0], src_gray.shape[1], 3), dtype=np.uint8)\n",
    "    print len(contours)\n",
    "    print path\n",
    "    for i in range(len(contours)):\n",
    "        if(i == 0):\n",
    "            continue\n",
    "        color = (rng.randint(0,256), rng.randint(0,256), rng.randint(0,256))\n",
    "#         print contours\n",
    "#         cv2.drawContours(drawing, contours, i, color)\n",
    "        cv2.drawContours(drawing, hull_list, i, color)\n",
    "        \n",
    "        print (cv2.contourArea(hull_list[i]) - cv2.contourArea(contours[i])) / cv2.contourArea(hull_list[i])\n",
    "    matcher1 = re.search(pattern1,path)\n",
    "    new_path = \"{}_watershed_convex.png\".format(matcher1.group(0))\n",
    "#     cv2.normalize(mark, mark, 0, 255, cv2.NORM_MINMAX)\n",
    "    cv2.imwrite(new_path, drawing)"
   ]
  },
  {
   "cell_type": "code",
   "execution_count": null,
   "metadata": {
    "collapsed": true
   },
   "outputs": [],
   "source": []
  }
 ],
 "metadata": {
  "kernelspec": {
   "display_name": "Python 2",
   "language": "python",
   "name": "python2"
  },
  "language_info": {
   "codemirror_mode": {
    "name": "ipython",
    "version": 2
   },
   "file_extension": ".py",
   "mimetype": "text/x-python",
   "name": "python",
   "nbconvert_exporter": "python",
   "pygments_lexer": "ipython2",
   "version": "2.7.14"
  }
 },
 "nbformat": 4,
 "nbformat_minor": 2
}
